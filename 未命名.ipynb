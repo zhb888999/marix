{
 "cells": [
  {
   "cell_type": "code",
   "execution_count": 58,
   "metadata": {},
   "outputs": [
    {
     "name": "stdout",
     "output_type": "stream",
     "text": [
      "[[[[0 ,1 ,2],\n",
      "   [3 ,4 ,5]]]]\n"
     ]
    }
   ],
   "source": [
    "def print_array_(size, dim, ndim):\n",
    "    string = \"\"\n",
    "    for i in range(size):\n",
    "        if l==0 :\n",
    "            string+='['\n",
    "        elif l < size:\n",
    "            string+= (ndim-dim)*'\\n' + dim*' '\n",
    "        string+='#'\n",
    "        if i==size-1:\n",
    "            string+=']'\n",
    "    \n",
    "shape = [2, 3, 4, 5]\n",
    "shape = [1,1,2,3]\n",
    "res = np.array([i for i in range(2*3)]).reshape((2,3))\n",
    "res2 = [i for i in range(2*3)]\n",
    "for l in range(shape[0]):\n",
    "    if l==0 :\n",
    "        print('[',end=\"\")\n",
    "    elif l < shape[0]:\n",
    "        print(',\\n\\n\\n ',end=\"\")\n",
    "    for k in range(shape[1]):\n",
    "        if k==0 :\n",
    "            print('[',end=\"\")\n",
    "        elif k < shape[1]:\n",
    "            print(',\\n\\n  ',end=\"\")\n",
    "        for i in range(shape[2]):\n",
    "            if i==0 :\n",
    "                print('[',end=\"\")\n",
    "            elif i < shape[2]:\n",
    "                print(',\\n   ',end=\"\")\n",
    "            for j in range(shape[3]):\n",
    "                if j == 0:\n",
    "                    print('[', end=\"\")\n",
    "                elif j < shape[3]:\n",
    "                    print(' ,', end=\"\")\n",
    "                #print(res[l][k][i][j], end=\"\")\n",
    "                print(res2[\n",
    "                    l*(shape[1]*shape[2]*shape[3]) + \n",
    "                    k*(shape[2]*shape[3]) + \n",
    "                    i*shape[3] + \n",
    "                    j\n",
    "                ], end=\"\")\n",
    "#                 print(res[])\n",
    "                if j==shape[3]-1:\n",
    "                    print(\"]\", end=\"\")\n",
    "            if i==shape[2]-1:\n",
    "                print(']',end=\"\")\n",
    "        if k==shape[1]-1:\n",
    "            print(']',end=\"\")\n",
    "    if l==shape[0]-1:\n",
    "        print(']')"
   ]
  },
  {
   "cell_type": "code",
   "execution_count": 4,
   "metadata": {},
   "outputs": [
    {
     "data": {
      "text/plain": [
       "array([[1., 1., 1., 1., 1.],\n",
       "       [1., 1., 1., 1., 1.],\n",
       "       [1., 1., 1., 1., 1.],\n",
       "       [1., 1., 1., 1., 1.],\n",
       "       [1., 1., 1., 1., 1.]])"
      ]
     },
     "execution_count": 4,
     "metadata": {},
     "output_type": "execute_result"
    }
   ],
   "source": [
    "import numpy as np\n",
    "np.ones((5,5))"
   ]
  },
  {
   "cell_type": "code",
   "execution_count": 40,
   "metadata": {},
   "outputs": [
    {
     "data": {
      "text/plain": [
       "array([[[[  0,   1,   2,   3,   4],\n",
       "         [  5,   6,   7,   8,   9],\n",
       "         [ 10,  11,  12,  13,  14],\n",
       "         [ 15,  16,  17,  18,  19]],\n",
       "\n",
       "        [[ 20,  21,  22,  23,  24],\n",
       "         [ 25,  26,  27,  28,  29],\n",
       "         [ 30,  31,  32,  33,  34],\n",
       "         [ 35,  36,  37,  38,  39]],\n",
       "\n",
       "        [[ 40,  41,  42,  43,  44],\n",
       "         [ 45,  46,  47,  48,  49],\n",
       "         [ 50,  51,  52,  53,  54],\n",
       "         [ 55,  56,  57,  58,  59]]],\n",
       "\n",
       "\n",
       "       [[[ 60,  61,  62,  63,  64],\n",
       "         [ 65,  66,  67,  68,  69],\n",
       "         [ 70,  71,  72,  73,  74],\n",
       "         [ 75,  76,  77,  78,  79]],\n",
       "\n",
       "        [[ 80,  81,  82,  83,  84],\n",
       "         [ 85,  86,  87,  88,  89],\n",
       "         [ 90,  91,  92,  93,  94],\n",
       "         [ 95,  96,  97,  98,  99]],\n",
       "\n",
       "        [[100, 101, 102, 103, 104],\n",
       "         [105, 106, 107, 108, 109],\n",
       "         [110, 111, 112, 113, 114],\n",
       "         [115, 116, 117, 118, 119]]]])"
      ]
     },
     "execution_count": 40,
     "metadata": {},
     "output_type": "execute_result"
    }
   ],
   "source": [
    "np.array([i for i in range(2*3*4*5)]).reshape(shape)"
   ]
  },
  {
   "cell_type": "code",
   "execution_count": 64,
   "metadata": {},
   "outputs": [
    {
     "data": {
      "text/plain": [
       "-2"
      ]
     },
     "execution_count": 64,
     "metadata": {},
     "output_type": "execute_result"
    }
   ],
   "source": [
    "-4 >> 1"
   ]
  },
  {
   "cell_type": "code",
   "execution_count": 60,
   "metadata": {},
   "outputs": [
    {
     "data": {
      "text/plain": [
       "0"
      ]
     },
     "execution_count": 60,
     "metadata": {},
     "output_type": "execute_result"
    }
   ],
   "source": [
    "1 >> 1"
   ]
  },
  {
   "cell_type": "code",
   "execution_count": 70,
   "metadata": {},
   "outputs": [
    {
     "data": {
      "text/plain": [
       "0"
      ]
     },
     "execution_count": 70,
     "metadata": {},
     "output_type": "execute_result"
    }
   ],
   "source": [
    "18 >> 5"
   ]
  },
  {
   "cell_type": "code",
   "execution_count": null,
   "metadata": {},
   "outputs": [],
   "source": []
  }
 ],
 "metadata": {
  "kernelspec": {
   "display_name": "Python 3",
   "language": "python",
   "name": "python3"
  },
  "language_info": {
   "codemirror_mode": {
    "name": "ipython",
    "version": 3
   },
   "file_extension": ".py",
   "mimetype": "text/x-python",
   "name": "python",
   "nbconvert_exporter": "python",
   "pygments_lexer": "ipython3",
   "version": "3.8.5"
  }
 },
 "nbformat": 4,
 "nbformat_minor": 4
}
