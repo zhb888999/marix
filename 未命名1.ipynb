{
 "cells": [
  {
   "cell_type": "code",
   "execution_count": 94,
   "metadata": {},
   "outputs": [],
   "source": [
    "def print_dim(size, dim, ndim):\n",
    "    string = \"\"\n",
    "    for i in range(size):\n",
    "        if i==0 :\n",
    "            string+='['\n",
    "        elif i < size:\n",
    "            if ndim==dim:\n",
    "                string += ' ,'\n",
    "            else:\n",
    "                string+= ',' + (ndim-dim)*'\\n' + dim*' '\n",
    "        string+='#'\n",
    "        if i==size-1:\n",
    "            string+=']'\n",
    "    return string\n",
    "\n",
    "def replace(s1, s2):\n",
    "    s1 = s1.replace('#', s2)\n",
    "    return s1\n",
    "\n",
    "def replace_num(s, data):\n",
    "    width = len(str(max(data)))\n",
    "    for d in data:\n",
    "        s = s.replace('#', f\"%{width}d\" % d, 1)\n",
    "    return s\n",
    "\n",
    "def print_array(shape, ndim, data):\n",
    "    dim_list = []\n",
    "\n",
    "    for i in range(ndim):\n",
    "        dim_list.append(print_dim(shape[i], i+1, ndim))\n",
    "        \n",
    "    res = dim_list[0]\n",
    "    for i in range(ndim-1):\n",
    "        res = replace(res, dim_list[i+1])\n",
    "    \n",
    "    return replace_num(res, data)"
   ]
  },
  {
   "cell_type": "code",
   "execution_count": 95,
   "metadata": {},
   "outputs": [],
   "source": [
    "res = [i for i in range(2*3*4)]"
   ]
  },
  {
   "cell_type": "code",
   "execution_count": 96,
   "metadata": {},
   "outputs": [
    {
     "name": "stdout",
     "output_type": "stream",
     "text": [
      "[[[ 0 , 1 , 2 , 3],\n",
      "  [ 4 , 5 , 6 , 7],\n",
      "  [ 8 , 9 ,10 ,11]],\n",
      "\n",
      " [[12 ,13 ,14 ,15],\n",
      "  [16 ,17 ,18 ,19],\n",
      "  [20 ,21 ,22 ,23]]]\n"
     ]
    }
   ],
   "source": [
    "print(print_array((2, 3, 4), 3, res))"
   ]
  },
  {
   "cell_type": "code",
   "execution_count": 79,
   "metadata": {},
   "outputs": [
    {
     "data": {
      "text/plain": [
       "array([[[ 0,  1,  2,  3],\n",
       "        [ 4,  5,  6,  7],\n",
       "        [ 8,  9, 10, 11]],\n",
       "\n",
       "       [[12, 13, 14, 15],\n",
       "        [16, 17, 18, 19],\n",
       "        [20, 21, 22, 23]]])"
      ]
     },
     "execution_count": 79,
     "metadata": {},
     "output_type": "execute_result"
    }
   ],
   "source": [
    "import numpy as np\n",
    "np.array(res).reshape((2, 3, 4))"
   ]
  },
  {
   "cell_type": "code",
   "execution_count": 72,
   "metadata": {},
   "outputs": [
    {
     "name": "stdout",
     "output_type": "stream",
     "text": [
      "[[1,  2],\n",
      " [3,  4]]\n"
     ]
    }
   ],
   "source": [
    "print(replace_num(s3, res))"
   ]
  },
  {
   "cell_type": "code",
   "execution_count": 100,
   "metadata": {},
   "outputs": [
    {
     "name": "stdout",
     "output_type": "stream",
     "text": [
      "[# ,# ,# ,# ,#]\n"
     ]
    }
   ],
   "source": [
    "print(print_dim(5, 5, 5))"
   ]
  },
  {
   "cell_type": "code",
   "execution_count": 101,
   "metadata": {},
   "outputs": [
    {
     "data": {
      "text/plain": [
       "134"
      ]
     },
     "execution_count": 101,
     "metadata": {},
     "output_type": "execute_result"
    }
   ],
   "source": [
    "23 - 5 + 23*5 +1"
   ]
  },
  {
   "cell_type": "code",
   "execution_count": null,
   "metadata": {},
   "outputs": [],
   "source": []
  }
 ],
 "metadata": {
  "kernelspec": {
   "display_name": "Python 3",
   "language": "python",
   "name": "python3"
  },
  "language_info": {
   "codemirror_mode": {
    "name": "ipython",
    "version": 3
   },
   "file_extension": ".py",
   "mimetype": "text/x-python",
   "name": "python",
   "nbconvert_exporter": "python",
   "pygments_lexer": "ipython3",
   "version": "3.8.5"
  }
 },
 "nbformat": 4,
 "nbformat_minor": 4
}
